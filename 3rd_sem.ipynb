{
  "nbformat": 4,
  "nbformat_minor": 0,
  "metadata": {
    "kernelspec": {
      "display_name": "Python 3",
      "language": "python",
      "name": "python3"
    },
    "language_info": {
      "codemirror_mode": {
        "name": "ipython",
        "version": 3
      },
      "file_extension": ".py",
      "mimetype": "text/x-python",
      "name": "python",
      "nbconvert_exporter": "python",
      "pygments_lexer": "ipython3",
      "version": "3.7.4"
    },
    "colab": {
      "name": "3rd sem ",
      "provenance": [],
      "include_colab_link": true
    }
  },
  "cells": [
    {
      "cell_type": "markdown",
      "metadata": {
        "id": "view-in-github",
        "colab_type": "text"
      },
      "source": [
        "<a href=\"https://colab.research.google.com/github/varaprasad1016/the-first-one/blob/vara/3rd_sem.ipynb\" target=\"_parent\"><img src=\"https://colab.research.google.com/assets/colab-badge.svg\" alt=\"Open In Colab\"/></a>"
      ]
    },
    {
      "cell_type": "code",
      "metadata": {
        "id": "aJ-rE2jFFI7O",
        "colab_type": "code",
        "colab": {
          "base_uri": "https://localhost:8080/",
          "height": 85
        },
        "outputId": "8fa40dc7-45d6-4cca-f826-b91f038f8d1f"
      },
      "source": [
        "#write a python program that create a class named parrot with attributes name and age also declare a class attribute named species. \n",
        "class parrot:\n",
        "    species = \"bird\"\n",
        "    def __init__(self,na,ag):\n",
        "        self.name=na\n",
        "        self.age=ag\n",
        "        \n",
        "#creation of objects\n",
        "o1=parrot(\"Nani\",20)\n",
        "o2=parrot(\"Banda\",15)\n",
        "\n",
        "print(\"Nani is a {}\".format(o1.__class__.species))\n",
        "print(\"Banda is a {}\".format(o1.__class__.species))\n",
        "\n",
        "#Acess instance attributes\n",
        "print(\"{} is {} years old\".format(o1.name,o1.age))\n",
        "print(\"{} is {} years old\".format(o2.name,o2.age))"
      ],
      "execution_count": 1,
      "outputs": [
        {
          "output_type": "stream",
          "text": [
            "Nani is a bird\n",
            "Banda is a bird\n",
            "Nani is 20 years old\n",
            "Banda is 15 years old\n"
          ],
          "name": "stdout"
        }
      ]
    },
    {
      "cell_type": "code",
      "metadata": {
        "id": "kepDl7NRFI7g",
        "colab_type": "code",
        "colab": {
          "base_uri": "https://localhost:8080/",
          "height": 51
        },
        "outputId": "87ad67d6-bf97-48f7-c383-eabd30ebb34e"
      },
      "source": [
        "#write a python program with name of class rectangle constructed by length and width and declare a method which will compute area of rectangle.\n",
        "class rectangle:\n",
        "    def __init__(self,l,w):\n",
        "        self.length=l\n",
        "        self.width=w\n",
        "    def rarea(self):\n",
        "        return self.length*self.width\n",
        "    \n",
        "#creation of objects\n",
        "r1=rectangle(12,10)\n",
        "r2=rectangle(15,2)\n",
        "print(r1.rarea())\n",
        "print(r2.rarea())"
      ],
      "execution_count": 2,
      "outputs": [
        {
          "output_type": "stream",
          "text": [
            "120\n",
            "30\n"
          ],
          "name": "stdout"
        }
      ]
    },
    {
      "cell_type": "code",
      "metadata": {
        "id": "Nw3xZSYzFI7q",
        "colab_type": "code",
        "colab": {},
        "outputId": "a168adc2-6a1c-43f5-9667-62fad63f2841"
      },
      "source": [
        "#write a python program class named circle constructed by a radius and two methods which will compute area and perimeter of a circle.\n",
        "class Circle():  \n",
        "    def __init__(self, r):  \n",
        "        self.radius = r  \n",
        "  \n",
        "    def area(self):  \n",
        "        return self.radius**2*3.14  \n",
        "      \n",
        "    def perimeter(self):  \n",
        "        return 2*self.radius*3.14  \n",
        "C1 = Circle(7)\n",
        "print(C1.area())  \n",
        "print(C1.perimeter())"
      ],
      "execution_count": null,
      "outputs": [
        {
          "output_type": "stream",
          "text": [
            "153.86\n",
            "43.96\n"
          ],
          "name": "stdout"
        }
      ]
    },
    {
      "cell_type": "code",
      "metadata": {
        "id": "lsJWu6eiFI76",
        "colab_type": "code",
        "colab": {
          "base_uri": "https://localhost:8080/",
          "height": 85
        },
        "outputId": "609cb2ce-4511-4224-cbce-f565f7111929"
      },
      "source": [
        "#write a python program to create a class named Employee with Empcount as class attribute, instance attribute name and salary.\n",
        "#also write two  methods to display the details of employee and count the number of employees.\n",
        "class employee:\n",
        "    empcount = 0\n",
        "    def __init__(self,na,sal):\n",
        "        self.name = na\n",
        "        self.salary = sal\n",
        "        employee.empcount = employee.empcount+1\n",
        "    def disp_count():\n",
        "        print(\"Total Employees =\",employee.empcount)\n",
        "    def disp_emp(self):\n",
        "        print(\"Name :\",self.name,\",Salary:\",self.salary)\n",
        "#creating objects\n",
        "e1 = employee(\"Nani\",50000)\n",
        "e2 = employee(\"Banda\",40000)\n",
        "e3 = employee(\"Tommy\",15000)\n",
        "\n",
        "e1.disp_emp()\n",
        "e2.disp_emp()\n",
        "e3.disp_emp()\n",
        "employee.disp_count()\n"
      ],
      "execution_count": 6,
      "outputs": [
        {
          "output_type": "stream",
          "text": [
            "Name : Nani ,Salary: 50000\n",
            "Name : Banda ,Salary: 40000\n",
            "Name : Tommy ,Salary: 15000\n",
            "Total Employees = 3\n"
          ],
          "name": "stdout"
        }
      ]
    },
    {
      "cell_type": "code",
      "metadata": {
        "id": "2TPbmgpcFI8E",
        "colab_type": "code",
        "colab": {
          "base_uri": "https://localhost:8080/",
          "height": 85
        },
        "outputId": "4b80dc40-fc37-4b12-de05-9fd1e736b5e0"
      },
      "source": [
        "#write a python program to calculate the arclength of an angle by assigning values to the radius and angle data attributes of the class arc length.\n",
        "#arc lenth :2*pi*r*angle/360 #class is logical entity\n",
        "import math\n",
        "class arclength:\n",
        "    def __init__(self):\n",
        "        self.radius=0\n",
        "        self.angle=0 #defalutized constructor (not using any parameters intilizing values with zeros)\n",
        "    def compute(self): \n",
        "        result = 2*math.pi*self.radius*self.angle/360\n",
        "        print(f\"length of arc is{result}\")\n",
        "        \n",
        "#creating objects it is an physical entity\n",
        "o1=arclength()\n",
        "o1.radius = 10\n",
        "o1.angle = 45 \n",
        "print(f\"Angle is {o1.angle}\")\n",
        "print(f\"Radius is {o1.radius}\")\n",
        "o1.compute()\n",
        "o2=arclength()\n",
        "o2.radius = 15\n",
        "o2.angle = 39\n",
        "o2.compute()\n",
        "\n",
        "        \n",
        "        \n"
      ],
      "execution_count": 7,
      "outputs": [
        {
          "output_type": "stream",
          "text": [
            "Angle is 45\n",
            "Radius is 10\n",
            "length of arc is7.853981633974483\n",
            "length of arc is10.210176124166827\n"
          ],
          "name": "stdout"
        }
      ]
    },
    {
      "cell_type": "code",
      "metadata": {
        "id": "atlJNugwFI8O",
        "colab_type": "code",
        "colab": {
          "base_uri": "https://localhost:8080/",
          "height": 153
        },
        "outputId": "7eb6e24c-474b-46f3-c933-159011ff1708"
      },
      "source": [
        "#write a python program to simulate bank account with support for deposit money,withdraw money and show balance operations\n",
        "class account:\n",
        "    def __init__(self,na): #parameterized constructor\n",
        "        self.name = na\n",
        "        self.balance = 0\n",
        "        \n",
        "    def show(self):\n",
        "        print(\"{} has a balance of {} rupees\".format(self.name,self.balance))\n",
        "    def withdraw(self,amt):\n",
        "        if amt>self.balance:\n",
        "            print(\"you dont have sufficient amount\")\n",
        "        else:\n",
        "            self.balance-=amt\n",
        "            \n",
        "    def deposit(self,amt):\n",
        "        self.balance+=amt\n",
        "        \n",
        "def main():\n",
        "    o1=account(\"Gayathri\")\n",
        "    o2=account(\"jagan\")\n",
        "    o1.show()\n",
        "    o2.show()\n",
        "    o1.deposit(10000)\n",
        "    o1.show()\n",
        "    o1.withdraw(400)\n",
        "    o1.show()\n",
        "    o2.deposit(5000)\n",
        "    o2.show()\n",
        "    o2.withdraw(1000)\n",
        "    o2.show()\n",
        "    o2.withdraw(7000)\n",
        "    o2.show()\n",
        "\n",
        "if  __name__ == \"__main__\":\n",
        "    main()\n",
        "    "
      ],
      "execution_count": 10,
      "outputs": [
        {
          "output_type": "stream",
          "text": [
            "Gayathri has a balance of 0 rupees\n",
            "jagan has a balance of 0 rupees\n",
            "Gayathri has a balance of 10000 rupees\n",
            "Gayathri has a balance of 9600 rupees\n",
            "jagan has a balance of 5000 rupees\n",
            "jagan has a balance of 4000 rupees\n",
            "you dont have sufficient amount\n",
            "jagan has a balance of 4000 rupees\n"
          ],
          "name": "stdout"
        }
      ]
    },
    {
      "cell_type": "code",
      "metadata": {
        "id": "bzueaIhsFI8Z",
        "colab_type": "code",
        "colab": {},
        "outputId": "ee82779c-aef1-4645-91e3-4520bef03d3f"
      },
      "source": [
        "#write a python program to create a class with name car with instance attributes namely make,model,colour,year and price.use constructor with default parameters andimplemdent a method called show() to display the details of car.\n",
        "#Example program for constructor with default parameters\n",
        "class car:\n",
        "    def __init__(self,make=\"Ford\",model=\"mustang\",color=\"Black\",year=1996,price=7500000):\n",
        "        self.make=make\n",
        "        self.model=model\n",
        "        self.color=color\n",
        "        self.year=year\n",
        "        self.price=price\n",
        "    def show(self):\n",
        "        print(\"Make=\"+self.make,end=\"\\n\")\n",
        "        print(\"Model=\"+self.model,end=\"\\n\")\n",
        "        print(\"Colour=\"+self.color,end=\"\\n\")\n",
        "        print(\"Year=\",self.year,end=\"\\n\")\n",
        "        print(\"Price=\",self.price,end=\"\\n\")\n",
        "c1=car()\n",
        "c1.show()\n",
        "c2=car(\"Toyota\",\"Innova\")\n",
        "c2.show()\n",
        "c3=car(\"Maruthi\",\"Ertiga\",\"White\",2020,1200000)\n",
        "c3.show()\n",
        "        \n",
        "    "
      ],
      "execution_count": null,
      "outputs": [
        {
          "output_type": "stream",
          "text": [
            "Make=Ford\n",
            "Model=mustang\n",
            "Colour=Black\n",
            "Year= 1996\n",
            "Price= 7500000\n",
            "Make=Toyota\n",
            "Model=Innova\n",
            "Colour=Black\n",
            "Year= 1996\n",
            "Price= 7500000\n",
            "Make=Maruthi\n",
            "Model=Ertiga\n",
            "Colour=White\n",
            "Year= 2020\n",
            "Price= 1200000\n"
          ],
          "name": "stdout"
        }
      ]
    },
    {
      "cell_type": "code",
      "metadata": {
        "id": "j8gHHBijFI8k",
        "colab_type": "code",
        "colab": {},
        "outputId": "ac50c9e5-6ee4-42f3-8ee5-6112f211a8f2"
      },
      "source": [
        "#Question-1:\n",
        "class Bike:\n",
        "    def __init__(self,make=\"ktm\",color=\"blue\",price=89.99):\n",
        "        self.make=make\n",
        "        self.color=color\n",
        "        self.price=price\n",
        "    def show(self):\n",
        "        print(\"Make=\"+self.make,end=\"\\n\")\n",
        "        print(\"Color=\"+self.color,end=\"\\n\")\n",
        "        print(\"Price=\",self.price,end=\"\\n\")\n",
        "testOne=Bike()\n",
        "testOne.show()\n",
        "testTwo=Bike(\"Royal Enfield\",\"purple\",25.0)\n",
        "testTwo.show()"
      ],
      "execution_count": null,
      "outputs": [
        {
          "output_type": "stream",
          "text": [
            "Make=ktm\n",
            "Color=blue\n",
            "Price= 89.99\n",
            "Make=Royal Enfield\n",
            "Color=purple\n",
            "Price= 25.0\n"
          ],
          "name": "stdout"
        }
      ]
    },
    {
      "cell_type": "code",
      "metadata": {
        "id": "Isg4VbbbFI80",
        "colab_type": "code",
        "colab": {},
        "outputId": "7954ff33-1864-4c13-9b66-5783bce2c23a"
      },
      "source": [
        "#question-2\n",
        "class AppleBasket:\n",
        "    def __init__(self,apple_quantity=4,apple_color=\"red\"):\n",
        "        self.apple_quantity=apple_quantity\n",
        "        self.apple_color=apple_color\n",
        "    def increase(self):\n",
        "        self.apple_quantity+=1\n",
        "    def __str__(self):\n",
        "        return \"a basket of {} {} apples\".format(self.apple_quantity,self.apple_color) \n",
        "\n",
        "t=AppleBasket()\n",
        "print(t)\n",
        "\n",
        "t.increase()\n",
        "print(t)\n"
      ],
      "execution_count": null,
      "outputs": [
        {
          "output_type": "stream",
          "text": [
            "a basket of 4 red apples\n",
            "a basket of 5 red apples\n"
          ],
          "name": "stdout"
        }
      ]
    },
    {
      "cell_type": "code",
      "metadata": {
        "id": "SZGA_2xhFI89",
        "colab_type": "code",
        "colab": {},
        "outputId": "2d72e521-eb81-461d-be48-bb1ae056d037"
      },
      "source": [
        "#question-3\n",
        "class BankAccount:\n",
        "    def __init__(self,name):\n",
        "        self.name = name\n",
        "        self.balance = 100\n",
        "    def deposit(self,amt):\n",
        "        self.balance+=amt\n",
        "    def __str__(self):\n",
        "        return \"Your account, {} , has {} dollars.\".format(self.name,self.balance)        \n",
        "t1=BankAccount(\"Bob\")\n",
        "print(t1)\n",
        "\n",
        "#t1.deposit(100)\n",
        "#print(t1)\n",
        "\n",
        "\n",
        "     "
      ],
      "execution_count": null,
      "outputs": [
        {
          "output_type": "stream",
          "text": [
            "Your account, Bob , has 100 dollars.\n"
          ],
          "name": "stdout"
        }
      ]
    },
    {
      "cell_type": "code",
      "metadata": {
        "id": "fnruWhOQFI9G",
        "colab_type": "code",
        "colab": {},
        "outputId": "22c2d205-09cd-42b3-9d78-786b9f93f062"
      },
      "source": [
        "#write a python program that demonstrates passing object as parameter to a outside function.(class)\n",
        "class car:\n",
        "    def __init__(self,make=\"Audi\",model=\"Top line\",color = \"red\",year=1989,price = 9500000):\n",
        "        self.make=make\n",
        "        self.model=model\n",
        "        self.color=color\n",
        "        self.year=year\n",
        "        self.price=price\n",
        "def show(self):\n",
        "    print(\"Make=\"+self.make,end = \"\\n\")\n",
        "    print(\"Model=\"+self.model,end = \"\\n\")\n",
        "    print(\"Color=\"+self.color,end = \"\\n\")\n",
        "    print(\"Year=\",self.year,end = \"\\n\")\n",
        "    print(\"Price=\",self.price,end = \"\\n\")\n",
        "c1=car()\n",
        "show(c1) \n",
        "c2=car(\"ford\",\"feista\",\"red\",2019,200000)\n",
        "show(c2)\n",
        "c3=car(\"toyota\",\"innova\")\n",
        "show(c3)"
      ],
      "execution_count": null,
      "outputs": [
        {
          "output_type": "stream",
          "text": [
            "Make=Audi\n",
            "Model=Top line\n",
            "Color=red\n",
            "Year= 1989\n",
            "Price= 9500000\n",
            "Make=ford\n",
            "Model=feista\n",
            "Color=red\n",
            "Year= 2019\n",
            "Price= 200000\n",
            "Make=toyota\n",
            "Model=innova\n",
            "Color=red\n",
            "Year= 1989\n",
            "Price= 9500000\n"
          ],
          "name": "stdout"
        }
      ]
    },
    {
      "cell_type": "code",
      "metadata": {
        "id": "z1yGyfRiFI9P",
        "colab_type": "code",
        "colab": {}
      },
      "source": [
        "#given the coordinates (x,y) of a center of a circle and its radius write a python program to determine whether the point lies inside the circle or outside the circle or on the circle.\n"
      ],
      "execution_count": null,
      "outputs": []
    },
    {
      "cell_type": "code",
      "metadata": {
        "id": "ouuaub6lFI9Z",
        "colab_type": "code",
        "colab": {},
        "outputId": "46dd4791-e691-4313-d278-b4f22737bb2f"
      },
      "source": [
        "#Question -1 \n",
        "import datetime # we will use this for date objects\n",
        "\n",
        "class Person:\n",
        "\n",
        "    def __init__(self, name, surname, birthdate, address, telephone, email):\n",
        "        self.name = name\n",
        "        self.surname = surname\n",
        "        self.birthdate = birthdate\n",
        "\n",
        "        self.address = address\n",
        "        self.telephone = telephone\n",
        "        self.email = email\n",
        "\n",
        "    def age(self):\n",
        "        today = datetime.date.today()\n",
        "        age = today.year - self.birthdate.year\n",
        "\n",
        "        if today < datetime.date(today.year, self.birthdate.month, self.birthdate.day):\n",
        "            age -= 1\n",
        "\n",
        "        return age\n",
        "\n",
        "person = Person(\n",
        "    \"Gayathri\",\n",
        "    \"Nukala\",\n",
        "    datetime.date(2001, 10, 26), # year, month, day\n",
        "    \"No. 12 Short Street, Greenville\",\n",
        "    \"999 123 143\",\n",
        "    \"gayathrinukala@1.com\")\n",
        "\n",
        "print(person.name)\n",
        "\n",
        "print(person.age())"
      ],
      "execution_count": null,
      "outputs": [
        {
          "output_type": "stream",
          "text": [
            "Gayathri\n",
            "18\n"
          ],
          "name": "stdout"
        }
      ]
    },
    {
      "cell_type": "code",
      "metadata": {
        "id": "hZaRc7t2FI9h",
        "colab_type": "code",
        "colab": {},
        "outputId": "5f55139e-a4d5-4e3d-c026-2828b9e2575e"
      },
      "source": [
        "#Question-2\n",
        "class Numbers:\n",
        "    MULTIPLIER = 2\n",
        "\n",
        "    def __init__(self, x, y):\n",
        "        self.x = x\n",
        "        self.y = y\n",
        "\n",
        "    def add(self):\n",
        "        return self.x + self.y\n",
        "\n",
        "    @classmethod\n",
        "    def multiply(cls, a):\n",
        "        return cls.MULTIPLIER * a\n",
        "\n",
        "    @staticmethod\n",
        "    def subtract(b, c):\n",
        "        return b - c\n",
        "\n",
        "    @property\n",
        "    def value(self):\n",
        "        return (self.x, self.y)\n",
        "\n",
        "    @value.setter\n",
        "    def value(self, t):\n",
        "        self.x=t[0]\n",
        "        self.y=t[1]\n",
        "\n",
        "    @value.deleter\n",
        "    def value(self):\n",
        "        self.x=None\n",
        "        self.y=None\n",
        "        \n",
        "        \n",
        "obj1=Numbers(1,2)\n",
        "print('Numbers :',obj1.value)\n",
        "print('Add :',obj1.add())\n",
        "\n",
        "obj1.value=(3,4)\n",
        "print('Numbers :',obj1.value)\n",
        "print('Add :',obj1.add())\n",
        "\n",
        "del obj1.value\n",
        "print('Numbers :',obj1.value)\n",
        "\n",
        "print('Multiply 4 with 2 : ',Numbers.multiply(4))\n",
        "\n",
        "print('Subtract 4 from 2 :',Numbers.subtract(2,4))"
      ],
      "execution_count": null,
      "outputs": [
        {
          "output_type": "stream",
          "text": [
            "Numbers : (1, 2)\n",
            "Add : 3\n",
            "Numbers : (3, 4)\n",
            "Add : 7\n",
            "Numbers : (None, None)\n",
            "Multiply 4 with 2 :  8\n",
            "Subtract 4 from 2 : -2\n"
          ],
          "name": "stdout"
        }
      ]
    },
    {
      "cell_type": "code",
      "metadata": {
        "id": "Gf2jJHs6FI99",
        "colab_type": "code",
        "colab": {},
        "outputId": "cf71f468-ce28-44b7-e146-79d406108628"
      },
      "source": [
        "#write a python program to compute the end time of an opera,while start time and duration are given.\n",
        "class time:\n",
        "    def __init__(self,h,m,s):\n",
        "        self.h=h\n",
        "        self.m=m\n",
        "        self.s=s\n",
        "    def add_time(self,duration):#method (the obj which invokes  called owner object (self.))\n",
        "        o_h=self.h+duration.h\n",
        "        o_m=self.m+duration.m (#o_h, o_m, o_s local variables of add time method in class)\n",
        "        o_s=self.s+duration.s\n",
        "        while o_s>=60:\n",
        "            o_s-=60\n",
        "            o_m+=1\n",
        "            while o_m>=60:\n",
        "                o_m-=60\n",
        "                o_h+=1\n",
        "        print(f\"Opera ends at{o_h} : {o_m} :{o_s}\")\n",
        "#creation of objcts\n",
        "def main():\n",
        "    o_start = time(10,30,30)\n",
        "    o_duration = time(2,45,50)\n",
        "    o_start.add_time(o_duration)\n",
        "if __name__==\"__main__\":\n",
        "    main()"
      ],
      "execution_count": null,
      "outputs": [
        {
          "output_type": "stream",
          "text": [
            "Opera ends at13 : 16 :20\n"
          ],
          "name": "stdout"
        }
      ]
    },
    {
      "cell_type": "code",
      "metadata": {
        "id": "-fl7Rz7RFI-H",
        "colab_type": "code",
        "colab": {},
        "outputId": "660e369b-1321-4ad1-8f7f-efb48ca5dd43"
      },
      "source": [
        "#write a python program to create class attribute called counter and increment this attribute every time a new instance is created. and also decreament this attribute by 1 evry time when instance is  destroyed.\n",
        "class sample:\n",
        "    counter=0\n",
        "    def __init__(self):\n",
        "        type(self).counter+=1\n",
        "    def __del__(self):\n",
        "        type(self).counter-=1\n",
        "#creation of objects\n",
        "if __name__==\"__main__\":\n",
        "    x=sample()\n",
        "    print(\"Number of objects created=\"+str(sample.counter))\n",
        "    y=sample()\n",
        "    print(\"Number of objects created=\"+str(sample.counter))\n",
        "    z=sample()\n",
        "    print(\"Number of objects created=\"+str(sample.counter))\n",
        "    del x\n",
        "    print(\"Number of objects =\"+str(sample.counter))\n",
        "    del y\n",
        "    print(\"Number of objects =\"+str(sample.counter))"
      ],
      "execution_count": null,
      "outputs": [
        {
          "output_type": "stream",
          "text": [
            "Number of objects created=1\n",
            "Number of objects created=2\n",
            "Number of objects created=3\n",
            "Number of objects =2\n",
            "Number of objects =1\n"
          ],
          "name": "stdout"
        }
      ]
    },
    {
      "cell_type": "code",
      "metadata": {
        "id": "AuBahMjRFI-S",
        "colab_type": "code",
        "colab": {},
        "outputId": "e1dbae02-3ee9-4542-8b4f-4c61f0b510a3"
      },
      "source": [
        "#example on private variable\n",
        "#write a python script that demonstrates a private variable\n",
        "class sample: #logical entity it doesnot occupy memory\n",
        "    def __init__(self):\n",
        "        self.a=10 #public variable\n",
        "        self.__b=20 #private variable initialize with __\n",
        "        \n",
        "    def display(self):\n",
        "        print(f\"{self.__b} is accessed with in method of class\")\n",
        "def main():\n",
        "    s=sample() #no parametrs so called defaultized cnstructer\n",
        "    print(s.a)\n",
        "    #print(s.__b)\n",
        "    s.display() # s is owner object\n",
        "if __name__==\"__main__\":\n",
        "    main()"
      ],
      "execution_count": null,
      "outputs": [
        {
          "output_type": "stream",
          "text": [
            "10\n",
            "20 is accessed with in method of class\n"
          ],
          "name": "stdout"
        }
      ]
    },
    {
      "cell_type": "code",
      "metadata": {
        "id": "EEOHoD7gFI-b",
        "colab_type": "code",
        "colab": {}
      },
      "source": [
        "#INHERITANCE\n",
        "#is a mechanism used in oop concept to define a new class from the existing class \n",
        "#the class which is used to create a new class is known as \"base class\" or \"parent class\"\n",
        "#the class which creates from another class is known as \"derived class\"or \"child class\"\n",
        "# 1.single inheritance 2.multi level inheritence 3.multiple inheritence\n",
        "#single inheritence: class creates one sub class or class creates one child class.\n",
        "#a child class creates more than 1 called mutliple inheritence.\n",
        "#a->b->c known as multi level inheritence     "
      ],
      "execution_count": null,
      "outputs": []
    },
    {
      "cell_type": "code",
      "metadata": {
        "id": "-kcgbxwXFI-t",
        "colab_type": "code",
        "colab": {}
      },
      "source": [
        "#Example:\n",
        "#write a python program to create a class named person with instance attributes first name,last name derive a child class called \"student\" to access the members of parent class\n"
      ],
      "execution_count": null,
      "outputs": []
    }
  ]
}